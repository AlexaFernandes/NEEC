{
 "cells": [
  {
   "cell_type": "code",
   "execution_count": 1,
   "metadata": {},
   "outputs": [
    {
     "name": "stdout",
     "output_type": "stream",
     "text": [
      "[{\"employeeId\":1,\"firstName\":\"John\",\"lastName\":\"Doe\",\"email\":\"john@doe.com\",\"phone\":\"555-1212\"},{\"employeeId\":2,\"firstName\":\"Jenny\",\"lastName\":\"Doe\",\"email\":\"jenny@doe.com\",\"phone\":\"867-5309\"},{\"employeeId\":3,\"firstName\":\"Clark\",\"lastName\":\"Kent\",\"email\":\"clark@doe.com\",\"phone\":\"555-1213\"}]"
     ]
    }
   ],
   "source": [
    "!curl -X GET --header 'Accept: application/json' 'http://127.0.0.1:8080/api/tutorial/1.0/employees'"
   ]
  },
  {
   "cell_type": "code",
   "execution_count": 8,
   "metadata": {
    "scrolled": true
   },
   "outputs": [
    {
     "ename": "SyntaxError",
     "evalue": "invalid syntax (<ipython-input-8-ecd0bd27cd08>, line 1)",
     "output_type": "error",
     "traceback": [
      "\u001b[0;36m  File \u001b[0;32m\"<ipython-input-8-ecd0bd27cd08>\"\u001b[0;36m, line \u001b[0;32m1\u001b[0m\n\u001b[0;31m    GET -body 'http://127.0.0.1:8080/api/tutorial/1.0/employees/3'\u001b[0m\n\u001b[0m                                                                 ^\u001b[0m\n\u001b[0;31mSyntaxError\u001b[0m\u001b[0;31m:\u001b[0m invalid syntax\n"
     ]
    }
   ],
   "source": [
    "! GET -body http://127.0.0.1:8080/api/tutorial/1.0/employees/3"
   ]
  },
  {
   "cell_type": "code",
   "execution_count": 25,
   "metadata": {},
   "outputs": [],
   "source": [
    "import requests\n",
    "import json"
   ]
  },
  {
   "cell_type": "code",
   "execution_count": 26,
   "metadata": {},
   "outputs": [],
   "source": []
  },
  {
   "cell_type": "code",
   "execution_count": 78,
   "metadata": {},
   "outputs": [],
   "source": [
    "r = requests.get(\"http://127.0.0.1:8080/api/tutorial/1.0/employees\");"
   ]
  },
  {
   "cell_type": "code",
   "execution_count": 68,
   "metadata": {},
   "outputs": [],
   "source": [
    "new={\n",
    "    \"employeeId\": 10 ,\n",
    "    \"firstName\": \"Mark\",\n",
    "    \"lastName\": \"Bones\",\n",
    "    \"email\": \"markb@gmail.com\",\n",
    "    \"phone\": 967891011\n",
    "}\n",
    "\n",
    "r=requests.post(\"http://127.0.0.1:8080/api/tutorial/1.0/employees\", json=new);"
   ]
  },
  {
   "cell_type": "code",
   "execution_count": 54,
   "metadata": {},
   "outputs": [],
   "source": [
    "r = requests.delete(\"http://127.0.0.1:8080/api/tutorial/1.0/employees/10\")"
   ]
  },
  {
   "cell_type": "code",
   "execution_count": 60,
   "metadata": {},
   "outputs": [],
   "source": [
    "patch={'employeeId': 3,\n",
    "  'firstName': 'Kall',\n",
    "  'lastName': '-Ell',\n",
    "  'email': 'clark@doe.com',\n",
    "  'phone': '555-1213'}\n",
    "\n",
    "r = requests.patch(\"http://127.0.0.1:8080/api/tutorial/1.0/employees/3\", json=patch)"
   ]
  },
  {
   "cell_type": "code",
   "execution_count": 75,
   "metadata": {},
   "outputs": [],
   "source": [
    "put={'employeeId': 10,\n",
    "  'firstName': 'Ed',\n",
    "  'lastName': 'Jones',\n",
    "  'email': 'edjones@doe.com',\n",
    "  'phone': '555-1213'}\n",
    "r = requests.put(\"http://127.0.0.1:8080/api/tutorial/1.0/employees/10\", json=put);"
   ]
  },
  {
   "cell_type": "code",
   "execution_count": 76,
   "metadata": {},
   "outputs": [
    {
     "data": {
      "text/plain": [
       "<Response [200]>"
      ]
     },
     "execution_count": 76,
     "metadata": {},
     "output_type": "execute_result"
    }
   ],
   "source": [
    "r"
   ]
  },
  {
   "cell_type": "code",
   "execution_count": 79,
   "metadata": {},
   "outputs": [
    {
     "data": {
      "text/plain": [
       "[{'employeeId': 1,\n",
       "  'firstName': 'John',\n",
       "  'lastName': 'Doe',\n",
       "  'email': 'john@doe.com',\n",
       "  'phone': '555-1212'},\n",
       " {'employeeId': 2,\n",
       "  'firstName': 'Jenny',\n",
       "  'lastName': 'Doe',\n",
       "  'email': 'jenny@doe.com',\n",
       "  'phone': '867-5309'},\n",
       " {'employeeId': 3,\n",
       "  'firstName': 'Kall',\n",
       "  'lastName': '-Ell',\n",
       "  'email': 'clark@doe.com',\n",
       "  'phone': '555-1213'},\n",
       " {'employeeId': 10,\n",
       "  'firstName': 'Ed',\n",
       "  'lastName': 'Jones',\n",
       "  'email': 'edjones@doe.com',\n",
       "  'phone': '555-1213'}]"
      ]
     },
     "execution_count": 79,
     "metadata": {},
     "output_type": "execute_result"
    }
   ],
   "source": [
    "json.loads(r.text)"
   ]
  },
  {
   "cell_type": "code",
   "execution_count": null,
   "metadata": {},
   "outputs": [],
   "source": []
  }
 ],
 "metadata": {
  "kernelspec": {
   "display_name": "Python 3",
   "language": "python",
   "name": "python3"
  },
  "language_info": {
   "codemirror_mode": {
    "name": "ipython",
    "version": 3
   },
   "file_extension": ".py",
   "mimetype": "text/x-python",
   "name": "python",
   "nbconvert_exporter": "python",
   "pygments_lexer": "ipython3",
   "version": "3.6.9"
  }
 },
 "nbformat": 4,
 "nbformat_minor": 4
}
