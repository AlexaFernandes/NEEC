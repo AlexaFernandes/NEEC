{
 "cells": [
  {
   "cell_type": "code",
   "execution_count": 1,
   "metadata": {},
   "outputs": [],
   "source": [
    "import http.server\n",
    "from urllib import parse"
   ]
  },
  {
   "cell_type": "code",
   "execution_count": null,
   "metadata": {},
   "outputs": [],
   "source": [
    "PORT = 8004\n"
   ]
  },
  {
   "cell_type": "code",
   "execution_count": null,
   "metadata": {},
   "outputs": [],
   "source": [
    "HTTPServer = http.server.HTTPServer\n",
    "BaseHTTPRequestHandler = http.server.BaseHTTPRequestHandler\n",
    "SimpleHTTPRequestHandler = http.server.SimpleHTTPRequestHandler"
   ]
  },
  {
   "cell_type": "code",
   "execution_count": null,
   "metadata": {},
   "outputs": [],
   "source": [
    "lista_de_frutas= {\n",
    "    \"/\": 0 ,\n",
    "    \"/apple\": 70,\n",
    "    \"/banana\": 120,\n",
    "    \"/orange\": 80    \n",
    "}"
   ]
  },
  {
   "cell_type": "code",
   "execution_count": 5,
   "metadata": {},
   "outputs": [],
   "source": [
    "class GEThandler(BaseHTTPRequestHandler):\n",
    "    def do_GET(self):\n",
    "        parsed_path = parse.urlparse(self.path)\n",
    "        print(parsed_path)\n",
    "        if parsed_path.query != \"\":\n",
    "            message = str(lista_de_frutas[parsed_path.path] * int(parsed_path.query))\n",
    "        else:\n",
    "            message = str(0)\n",
    "        self.send_response(200)\n",
    "        self.send_header('Content-Type',\n",
    "                        'text/plain; charset=utf-8')\n",
    "        self.end_headers()\n",
    "        self.wfile.write(message.encode('utf-8'))"
   ]
  },
  {
   "cell_type": "code",
   "execution_count": 6,
   "metadata": {},
   "outputs": [],
   "source": [
    "def run(server_class=HTTPServer, handler_class=GEThandler):\n",
    "    server_address = (\"127.0.0.1\", PORT)\n",
    "    httpd = server_class(server_address, handler_class)\n",
    "    httpd.serve_forever()"
   ]
  },
  {
   "cell_type": "code",
   "execution_count": null,
   "metadata": {},
   "outputs": [],
   "source": [
    "run()"
   ]
  },
  {
   "cell_type": "code",
   "execution_count": null,
   "metadata": {},
   "outputs": [],
   "source": []
  }
 ],
 "metadata": {
  "kernelspec": {
   "display_name": "Python 3",
   "language": "python",
   "name": "python3"
  },
  "language_info": {
   "codemirror_mode": {
    "name": "ipython",
    "version": 3
   },
   "file_extension": ".py",
   "mimetype": "text/x-python",
   "name": "python",
   "nbconvert_exporter": "python",
   "pygments_lexer": "ipython3",
   "version": "3.6.9"
  }
 },
 "nbformat": 4,
 "nbformat_minor": 4
}
