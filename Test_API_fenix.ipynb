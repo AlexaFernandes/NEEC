{
 "cells": [
  {
   "cell_type": "code",
   "execution_count": 22,
   "metadata": {},
   "outputs": [],
   "source": [
    "import requests\n",
    "import json"
   ]
  },
  {
   "cell_type": "code",
   "execution_count": 23,
   "metadata": {},
   "outputs": [],
   "source": [
    "r = requests.get(\" https://fenix.tecnico.ulisboa.pt/api/fenix/v1/parking\")"
   ]
  },
  {
   "cell_type": "code",
   "execution_count": 24,
   "metadata": {},
   "outputs": [
    {
     "data": {
      "text/plain": [
       "<Response [200]>"
      ]
     },
     "execution_count": 24,
     "metadata": {},
     "output_type": "execute_result"
    }
   ],
   "source": [
    "r"
   ]
  },
  {
   "cell_type": "code",
   "execution_count": 25,
   "metadata": {},
   "outputs": [],
   "source": [
    "a=json.loads(r.text)"
   ]
  },
  {
   "cell_type": "code",
   "execution_count": 26,
   "metadata": {},
   "outputs": [
    {
     "data": {
      "text/plain": [
       "{'Alameda': {'address': 'Avenida Rovisco Pais, 1, 1049-001 Lisboa',\n",
       "  'campus': 'Alameda',\n",
       "  'description': 'Parque Estacionamento do campus Alameda do IST',\n",
       "  'freeSlots': 558,\n",
       "  'latlng': '38.738137,-9.139135',\n",
       "  'name': 'Alameda',\n",
       "  'total': 595,\n",
       "  'updated': '2020-05-06 11:31:42',\n",
       "  'workingHours': '24h'},\n",
       " 'Arco Do Cego': {'address': 'Parque do Arco Cego, Avenida João Crisóstomo, 1000-178 Lisboa',\n",
       "  'campus': 'Alameda',\n",
       "  'description': 'Parque Estacionamento do Arco do Cego',\n",
       "  'freeSlots': 0,\n",
       "  'latlng': '38.73640895,-9.14313902',\n",
       "  'name': 'Arco do Cego',\n",
       "  'total': 70,\n",
       "  'updated': '2017-12-04 16:18:21',\n",
       "  'workingHours': '24'}}"
      ]
     },
     "execution_count": 26,
     "metadata": {},
     "output_type": "execute_result"
    }
   ],
   "source": [
    "a"
   ]
  },
  {
   "cell_type": "code",
   "execution_count": 41,
   "metadata": {},
   "outputs": [
    {
     "data": {
      "text/plain": [
       "595"
      ]
     },
     "execution_count": 41,
     "metadata": {},
     "output_type": "execute_result"
    }
   ],
   "source": [
    "a['Alameda']['total']"
   ]
  },
  {
   "cell_type": "code",
   "execution_count": null,
   "metadata": {},
   "outputs": [],
   "source": []
  }
 ],
 "metadata": {
  "kernelspec": {
   "display_name": "Python 3",
   "language": "python",
   "name": "python3"
  },
  "language_info": {
   "codemirror_mode": {
    "name": "ipython",
    "version": 3
   },
   "file_extension": ".py",
   "mimetype": "text/x-python",
   "name": "python",
   "nbconvert_exporter": "python",
   "pygments_lexer": "ipython3",
   "version": "3.6.9"
  }
 },
 "nbformat": 4,
 "nbformat_minor": 4
}
